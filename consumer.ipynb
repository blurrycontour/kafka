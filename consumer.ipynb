{
 "cells": [
  {
   "cell_type": "code",
   "execution_count": 1,
   "metadata": {},
   "outputs": [],
   "source": [
    "from kafka import KafkaConsumer\n",
    "import json\n",
    "\n",
    "topic = 'temperature-readings'\n",
    "\n",
    "# Create a Kafka consumer\n",
    "consumer = KafkaConsumer(\n",
    "    topic,\n",
    "    bootstrap_servers=['localhost:29092', 'localhost:39092', 'localhost:49092'],\n",
    "    value_deserializer=lambda m: json.loads(m.decode('utf-8')),\n",
    "    key_deserializer=lambda m: json.loads(m.decode('utf-8')),\n",
    "    consumer_timeout_ms=300000,\n",
    "    auto_offset_reset='earliest'\n",
    ")"
   ]
  },
  {
   "cell_type": "code",
   "execution_count": null,
   "metadata": {},
   "outputs": [
    {
     "name": "stdout",
     "output_type": "stream",
     "text": [
      "mundra:31C\n",
      "mundra:31C\n",
      "mundra:31C\n",
      "delhi:51C\n",
      "mumbai:25C\n",
      "mumbai:25C\n",
      "mumbai:25C\n"
     ]
    }
   ],
   "source": [
    "# Consume messages\n",
    "for message in consumer:\n",
    "    print(f\"{message.key}:{message.value}\")\n",
    "\n",
    "consumer.close()"
   ]
  }
 ],
 "metadata": {
  "kernelspec": {
   "display_name": "kafka",
   "language": "python",
   "name": "python3"
  },
  "language_info": {
   "codemirror_mode": {
    "name": "ipython",
    "version": 3
   },
   "file_extension": ".py",
   "mimetype": "text/x-python",
   "name": "python",
   "nbconvert_exporter": "python",
   "pygments_lexer": "ipython3",
   "version": "3.11.10"
  }
 },
 "nbformat": 4,
 "nbformat_minor": 2
}
