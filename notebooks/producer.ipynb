{
 "cells": [
  {
   "cell_type": "code",
   "execution_count": 2,
   "metadata": {},
   "outputs": [],
   "source": [
    "from kafka import KafkaProducer\n",
    "import json\n",
    "\n",
    "# Create a Kafka producer\n",
    "producer = KafkaProducer(\n",
    "    bootstrap_servers=['localhost:29092', 'localhost:39092', 'localhost:49092'],\n",
    "    value_serializer=lambda v: json.dumps(v).encode('utf-8'),\n",
    "    key_serializer=lambda v: json.dumps(v).encode('utf-8')\n",
    ")\n",
    "\n",
    "def send_message(topic, value, key=None):\n",
    "    if key:\n",
    "        producer.send(topic, key=key, value=value)\n",
    "    else:\n",
    "        producer.send(topic, value=value)\n",
    "    producer.flush()\n",
    "    print(f\"Sent message to topic {topic}: {value}\")"
   ]
  },
  {
   "cell_type": "code",
   "execution_count": 4,
   "metadata": {},
   "outputs": [
    {
     "name": "stdout",
     "output_type": "stream",
     "text": [
      "Sent message to topic temperature-readings: 25C\n",
      "Sent message to topic temperature-readings: 30C\n",
      "Sent message to topic temperature-readings: 35C\n"
     ]
    }
   ],
   "source": [
    "# Example usage\n",
    "topic = 'temperature-readings'\n",
    "send_message(topic, key='mumbai', value='25C')\n",
    "send_message(topic, key='delhi', value='30C')\n",
    "send_message(topic, key='mundra', value='35C')"
   ]
  }
 ],
 "metadata": {
  "kernelspec": {
   "display_name": "kafka",
   "language": "python",
   "name": "python3"
  },
  "language_info": {
   "codemirror_mode": {
    "name": "ipython",
    "version": 3
   },
   "file_extension": ".py",
   "mimetype": "text/x-python",
   "name": "python",
   "nbconvert_exporter": "python",
   "pygments_lexer": "ipython3",
   "version": "3.11.10"
  }
 },
 "nbformat": 4,
 "nbformat_minor": 2
}
