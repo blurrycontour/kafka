{
 "cells": [
  {
   "cell_type": "code",
   "execution_count": 1,
   "metadata": {},
   "outputs": [],
   "source": [
    "from kafka.admin import KafkaAdminClient, NewTopic\n",
    "\n",
    "# Create a Kafka admin client\n",
    "admin_client = KafkaAdminClient(\n",
    "    bootstrap_servers=['localhost:29092', 'localhost:39092', 'localhost:49092'],\n",
    "    client_id='test'\n",
    ")"
   ]
  },
  {
   "cell_type": "markdown",
   "metadata": {},
   "source": [
    "### List Topics"
   ]
  },
  {
   "cell_type": "code",
   "execution_count": 3,
   "metadata": {},
   "outputs": [
    {
     "name": "stdout",
     "output_type": "stream",
     "text": [
      "['temperature-readings']\n"
     ]
    }
   ],
   "source": [
    "# List all Kafka topics\n",
    "topics = admin_client.list_topics()\n",
    "print(topics)"
   ]
  },
  {
   "cell_type": "markdown",
   "metadata": {},
   "source": [
    "### Create Topic"
   ]
  },
  {
   "cell_type": "code",
   "execution_count": null,
   "metadata": {},
   "outputs": [],
   "source": [
    "topic_name = 'humidity-readings'\n",
    "new_topic = NewTopic(name=topic_name, num_partitions=3, replication_factor=3)\n",
    "\n",
    "# Create the topic\n",
    "admin_client.create_topics(new_topics=[new_topic], validate_only=False)"
   ]
  }
 ],
 "metadata": {
  "kernelspec": {
   "display_name": "kafka",
   "language": "python",
   "name": "python3"
  },
  "language_info": {
   "codemirror_mode": {
    "name": "ipython",
    "version": 3
   },
   "file_extension": ".py",
   "mimetype": "text/x-python",
   "name": "python",
   "nbconvert_exporter": "python",
   "pygments_lexer": "ipython3",
   "version": "3.11.10"
  }
 },
 "nbformat": 4,
 "nbformat_minor": 2
}
